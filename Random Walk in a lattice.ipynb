{
 "cells": [
  {
   "cell_type": "markdown",
   "metadata": {},
   "source": [
    "# Random Walk in a 3D lattice\n",
    "## Marta Braojos"
   ]
  },
  {
   "cell_type": "code",
   "execution_count": 4,
   "metadata": {},
   "outputs": [],
   "source": [
    "from pylab import cumsum, array"
   ]
  },
  {
   "cell_type": "code",
   "execution_count": 5,
   "metadata": {},
   "outputs": [],
   "source": [
    "def Down3D(listOfPoints):\n",
    "    newPoint = (0,0,0)  # a default return value\n",
    "    if len(listOfPoints) > 0:  # check there is at least one point in the list\n",
    "        lastPoint_x, lastPoint_y, lastPoint_z = listOfPoints[len(listOfPoints)-1]  # unpack the last point in the list\n",
    "        new_y = lastPoint_y - 1  # a new x coordinate, one unit to the left of the last one in the list\n",
    "        newPoint = (lastPoint_x, new_y, lastPoint_z)  # a new point one unit to the left of the last one in the list\n",
    "    return newPoint\n",
    "\n",
    "def Up3D(listOfPoints):\n",
    "    newPoint = (0,0,0)  # a default return value\n",
    "    if len(listOfPoints) > 0:  # check there is at least one point in the list\n",
    "        lastPoint_x, lastPoint_y, lastPoint_z = listOfPoints[len(listOfPoints)-1]  # unpack the last point in the list\n",
    "        new_y = lastPoint_y + 1  # a new x coordinate, one unit to the left of the last one in the list\n",
    "        newPoint = (lastPoint_x, new_y, lastPoint_z)  # a new point one unit to the left of the last one in the list\n",
    "    return newPoint\n",
    "\n",
    "def Right3D(listOfPoints):\n",
    "    newPoint = (0,0,0)  # a default return value\n",
    "    if len(listOfPoints) > 0:  # check there is at least one point in the list\n",
    "        lastPoint_x, lastPoint_y, lastPoint_z = listOfPoints[len(listOfPoints)-1]  # unpack the last point in the list\n",
    "        new_x = lastPoint_x - 1  # a new x coordinate, one unit to the left of the last one in the list\n",
    "        newPoint = (new_x, lastPoint_y, lastPoint_z)  # a new point one unit to the left of the last one in the list\n",
    "    return newPoint\n",
    "\n",
    "def Left3D(listOfPoints):\n",
    "    newPoint = (0,0,0)  # a default return value\n",
    "    if len(listOfPoints) > 0:  # check there is at least one point in the list\n",
    "        lastPoint_x, lastPoint_y, lastPoint_z = listOfPoints[len(listOfPoints)-1]  # unpack the last point in the list\n",
    "        new_x = lastPoint_x + 1  # a new x coordinate, one unit to the left of the last one in the list\n",
    "        newPoint = (new_x, lastPoint_y, lastPoint_z)  # a new point one unit to the left of the last one in the list\n",
    "    return newPoint\n",
    "\n",
    "def Forward3D(listOfPoints):\n",
    "    newPoint = (0,0,0)  # a default return value\n",
    "    if len(listOfPoints) > 0:  # check there is at least one point in the list\n",
    "        lastPoint_x, lastPoint_y, lastPoint_z = listOfPoints[len(listOfPoints)-1]  # unpack the last point in the list\n",
    "        new_z = lastPoint_z + 1  # a new x coordinate, one unit to the left of the last one in the list\n",
    "        newPoint = (lastPoint_x, lastPoint_y, new_z)  # a new point one unit to the left of the last one in the list\n",
    "    return newPoint\n",
    "\n",
    "def Backward3D(listOfPoints):\n",
    "    newPoint = (0,0,0)  # a default return value\n",
    "    if len(listOfPoints) > 0:  # check there is at least one point in the list\n",
    "        lastPoint_x, lastPoint_y, lastPoint_z = listOfPoints[len(listOfPoints)-1]  # unpack the last point in the list\n",
    "        new_z = lastPoint_z - 1  # a new x coordinate, one unit to the left of the last one in the list\n",
    "        newPoint = (lastPoint_x, lastPoint_y, new_z)  # a new point one unit to the left of the last one in the list\n",
    "    return newPoint"
   ]
  },
  {
   "cell_type": "code",
   "execution_count": 13,
   "metadata": {},
   "outputs": [
    {
     "data": {
      "application/vnd.jupyter.widget-view+json": {
       "model_id": "5d0ead5de521473693b512dea73ccf5e",
       "version_major": 2,
       "version_minor": 0
      },
      "text/html": [
       "<p>Failed to display Jupyter Widget of type <code>sage_interactive</code>.</p>\n",
       "<p>\n",
       "  If you're reading this message in the Jupyter Notebook or JupyterLab Notebook, it may mean\n",
       "  that the widgets JavaScript is still loading. If this message persists, it\n",
       "  likely means that the widgets JavaScript library is either not installed or\n",
       "  not enabled. See the <a href=\"https://ipywidgets.readthedocs.io/en/stable/user_install.html\">Jupyter\n",
       "  Widgets Documentation</a> for setup instructions.\n",
       "</p>\n",
       "<p>\n",
       "  If you're reading this message in another frontend (for example, a static\n",
       "  rendering on GitHub or <a href=\"https://nbviewer.jupyter.org/\">NBViewer</a>),\n",
       "  it may mean that your frontend doesn't currently support widgets.\n",
       "</p>\n"
      ],
      "text/plain": [
       "Interactive function <function _randomWalk3d at 0x6fef4cfbe60> with 1 widget\n",
       "  n: TransformIntSlider(value=1000, description=u'n', max=10000, min=1000, step=1000)"
      ]
     },
     "metadata": {},
     "output_type": "display_data"
    }
   ],
   "source": [
    "@interact\n",
    "def _randomWalk3d(n=slider(1000,10000, step_size=1000)):\n",
    "    startingPoint = (0,0,0)\n",
    "    drunkardsPath = [startingPoint] # start list with starting point tuple\n",
    "    pLeft, pRight, pUp, pDown, pForward, pBackward = RR(1/6), RR(1/6), RR(1/6), RR(1/6), RR(1/6), RR(1/6)\n",
    "    probs = [pLeft, pRight, pUp, pDown, pForward, pBackward] # list of probabilities left and right only so far\n",
    "    movementFunctions = [Right3D, Left3D, Down3D, Up3D, Forward3D, Backward3D] # list of corresponding movement functions\n",
    "    cumProbs = cumsum(probs).tolist() # cumulative probabilities\n",
    "    prns = [random() for i in range(n)] # pseudo-random Uniform(0,1) samples\n",
    "    for u in prns:                        # for each pseudo-random u\n",
    "        for i in range(len(cumProbs)):    # for each cumulative direction probability\n",
    "            if (u < cumProbs[i]):         # check if u is less than this direction cumulative probability\n",
    "                pointToAdd = movementFunctions[i](drunkardsPath)  # if so, find new point to go to\n",
    "                drunkardsPath.append(pointToAdd)                  # add it to the path\n",
    "                break    # the break statement breaks out of a loop, in the case out of the for-loop\n",
    "    # out of both loops, have a path, so plot it            \n",
    "    show(line(drunkardsPath))"
   ]
  },
  {
   "cell_type": "code",
   "execution_count": null,
   "metadata": {},
   "outputs": [],
   "source": []
  }
 ],
 "metadata": {
  "kernelspec": {
   "display_name": "SageMath 8.2",
   "language": "",
   "name": "sagemath"
  },
  "language_info": {
   "codemirror_mode": {
    "name": "ipython",
    "version": 2
   },
   "file_extension": ".py",
   "mimetype": "text/x-python",
   "name": "python",
   "nbconvert_exporter": "python",
   "pygments_lexer": "ipython2",
   "version": "2.7.14"
  }
 },
 "nbformat": 4,
 "nbformat_minor": 2
}
